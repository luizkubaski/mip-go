{
 "cells": [
  {
   "attachments": {},
   "cell_type": "markdown",
   "metadata": {},
   "source": [
    "# GolbalEx Co."
   ]
  },
  {
   "attachments": {},
   "cell_type": "markdown",
   "metadata": {},
   "source": [
    "## Formulation"
   ]
  },
  {
   "attachments": {},
   "cell_type": "markdown",
   "metadata": {},
   "source": [
    "### Input Data Model\n",
    "\n",
    "#### Set of Indices\n",
    "\n",
    "*  $I$ - set of available currencies to be traded.\n",
    "\n",
    "#### Parameters\n",
    "\n",
    "*  $r_{ij}$ - exchange rate of currency $i$ by currency $j$, given in (unit of currency $j$)/(unit of currency $i$)\n",
    "*  $d_{i}$ - amount required to satisfy the requirements (quantity to be bought or sold) of currency $i$.\n",
    "*  $f_{ij}$ - fee paid for exchanging currency $i$ per currency $j$ (units of currency $i$).\n",
    "\n",
    "#### Decision Variables\n",
    "\n",
    "*  $x_{ij}$ - amount of currency $i$ converted in currency $j$, given in units of currency $i$.\n",
    "\n",
    "#### Constraints\n",
    "\n",
    "*  C1) Flow of traded currencies must satisfy the demands of currency $i$.\n",
    "    $$ -\\sum_{k \\in I}x_{ik} + \\sum_{k \\in I}x_{ki} \\cdot r_{ki} * (1-f_{ki}) \\geq d_{i}, \\quad \\forall i  $$\n",
    "\n",
    "\n",
    "#### Objective\n",
    "\n",
    "The objective is to minimize the amount (dollar equivalent) paid in fees.\n",
    "    $$ \\text{min} \\sum_{ij}x_{ij}r_{ik}f_{ij}, \\quad k \\equiv \\text{USD}    $$\n",
    "\n"
   ]
  }
 ],
 "metadata": {
  "kernelspec": {
   "display_name": ".venv",
   "language": "python",
   "name": "python3"
  },
  "language_info": {
   "name": "python",
   "version": "3.8.16 (default, Dec 12 2022, 02:56:08) \n[GCC 12.2.0]"
  },
  "orig_nbformat": 4,
  "vscode": {
   "interpreter": {
    "hash": "e0a858c29d1567b97be9c3cc5d5be839b863e0df2b7e43baf06c264c6fb7f698"
   }
  }
 },
 "nbformat": 4,
 "nbformat_minor": 2
}
