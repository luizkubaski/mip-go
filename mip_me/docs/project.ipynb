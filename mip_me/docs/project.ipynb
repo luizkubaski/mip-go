{
 "cells": [
  {
   "cell_type": "markdown",
   "metadata": {},
   "source": [
    "# GlobalEx Co.\n",
    "_Author: Luiz Kubaski_\n",
    "_October, 2022_\n",
    "\n",
    "GlobalEx Co. is a global company which operates on Europe, South America, North America and Asia. Due to the nature of the company's operations, the firms needs to frequently transfer money to cover its cash requirements. The cash requirements can be found in the file `requirements.csv`. The currency exchange rates offered by the bank GlobalEx works are given in file `conversions_table.csv`."
   ]
  },
  {
   "cell_type": "code",
   "execution_count": 44,
   "metadata": {},
   "outputs": [],
   "source": [
    "import pandas as pd\n",
    "import pulp\n",
    "import numpy as np\n",
    "from pathlib import Path\n",
    "from itertools import product\n",
    "\n",
    "# paths to the files\n",
    "req_path = Path.cwd() / 'requirements.csv'\n",
    "assert Path(req_path).exists(), 'requirements.csv path does not exist!'\n",
    "\n",
    "rates_path = Path.cwd() / 'conversion_table.csv'\n",
    "assert Path(rates_path).exists(), 'conversion_rates.csv path does not exist!'\n",
    "\n",
    "# read the data\n",
    "requirements_data = pd.read_csv(req_path)\n",
    "\n",
    "# n = len(requirements_data) # the length of the dataframe gives the number of currencies\n",
    "\n",
    "requirements_data.set_index(keys=np.arange(1,n+1), inplace=True)\n",
    "\n",
    "# read exchange rate data (from: column | to: row)\n",
    "rates_data = pd.read_csv(rates_path).set_index(np.arange(1,n))\n",
    "# rates_df = rates_data.drop(columns='currency')\n",
    "\n",
    "# index\n",
    "I = [*np.arange(1,n)]\n",
    "\n",
    "# dictionary of currencies\n",
    "symb = {i: sym for (i,sym) in enumerate(requirements_data['symbol'],start=1)}\n",
    "\n",
    "\n",
    "# requirements dictionary\n",
    "reqs = { i: [requirements_data.loc[i,'surplus'],requirements_data.loc[i,'requirements']] for i in I}\n",
    "\n",
    "\n",
    "keys = [*product(I,repeat=2)]\n",
    "\n",
    "\n",
    "def exch(actual: str, new:int):\n",
    "    return rates_data.loc[rates_data['currency']== actual,symb[new]]\n",
    "\n",
    "\n",
    "\n",
    "\n",
    "\n",
    "\n",
    "# define the model\n",
    "mdl = pulp.LpProblem('GlobalEx', sense=pulp.LpMaximize)\n",
    "\n",
    "# define the variable\n",
    "# x_ij = currency i to be exhanged by j\n",
    "x = pulp.LpVariable.dicts('x_', indices=keys, cat='Continuous', lowBound=0)\n",
    "\n",
    "# CONSTRAINTS\n",
    "# C1) USD balance\n",
    "# mdl.addConstraint(\n",
    "#     x[1,2] + x[1,3]+x[1,4] - (x[2,1]* ) <= reqs[1][0]\n",
    "# )\n",
    "\n",
    "\n",
    "\n",
    "\n",
    "\n"
   ]
  },
  {
   "cell_type": "code",
   "execution_count": 53,
   "metadata": {},
   "outputs": [
    {
     "name": "stdout",
     "output_type": "stream",
     "text": [
      "EUR\n",
      "GBP\n",
      "USD\n",
      "INR\n"
     ]
    }
   ],
   "source": [
    "for i in I:\n",
    "    print(symb[i])"
   ]
  },
  {
   "cell_type": "code",
   "execution_count": 40,
   "metadata": {},
   "outputs": [
    {
     "data": {
      "text/html": [
       "<div>\n",
       "<style scoped>\n",
       "    .dataframe tbody tr th:only-of-type {\n",
       "        vertical-align: middle;\n",
       "    }\n",
       "\n",
       "    .dataframe tbody tr th {\n",
       "        vertical-align: top;\n",
       "    }\n",
       "\n",
       "    .dataframe thead th {\n",
       "        text-align: right;\n",
       "    }\n",
       "</style>\n",
       "<table border=\"1\" class=\"dataframe\">\n",
       "  <thead>\n",
       "    <tr style=\"text-align: right;\">\n",
       "      <th></th>\n",
       "      <th>currency</th>\n",
       "      <th>USD</th>\n",
       "      <th>GBP</th>\n",
       "      <th>EUR</th>\n",
       "      <th>INR</th>\n",
       "    </tr>\n",
       "  </thead>\n",
       "  <tbody>\n",
       "    <tr>\n",
       "      <th>1</th>\n",
       "      <td>USD</td>\n",
       "      <td>1.0000</td>\n",
       "      <td>1.6152</td>\n",
       "      <td>1.0060</td>\n",
       "      <td>0.02297</td>\n",
       "    </tr>\n",
       "    <tr>\n",
       "      <th>2</th>\n",
       "      <td>GBP</td>\n",
       "      <td>0.6188</td>\n",
       "      <td>1.0000</td>\n",
       "      <td>0.6223</td>\n",
       "      <td>0.01422</td>\n",
       "    </tr>\n",
       "    <tr>\n",
       "      <th>3</th>\n",
       "      <td>EUR</td>\n",
       "      <td>0.9935</td>\n",
       "      <td>1.6054</td>\n",
       "      <td>1.0000</td>\n",
       "      <td>0.02282</td>\n",
       "    </tr>\n",
       "    <tr>\n",
       "      <th>4</th>\n",
       "      <td>INR</td>\n",
       "      <td>43.5220</td>\n",
       "      <td>70.2967</td>\n",
       "      <td>43.7831</td>\n",
       "      <td>1.00000</td>\n",
       "    </tr>\n",
       "  </tbody>\n",
       "</table>\n",
       "</div>"
      ],
      "text/plain": [
       "  currency      USD      GBP      EUR      INR\n",
       "1      USD   1.0000   1.6152   1.0060  0.02297\n",
       "2      GBP   0.6188   1.0000   0.6223  0.01422\n",
       "3      EUR   0.9935   1.6054   1.0000  0.02282\n",
       "4      INR  43.5220  70.2967  43.7831  1.00000"
      ]
     },
     "execution_count": 40,
     "metadata": {},
     "output_type": "execute_result"
    }
   ],
   "source": [
    "rates_data.head()"
   ]
  },
  {
   "cell_type": "code",
   "execution_count": 41,
   "metadata": {},
   "outputs": [
    {
     "data": {
      "text/plain": [
       "1    1.0\n",
       "Name: USD, dtype: float64"
      ]
     },
     "execution_count": 41,
     "metadata": {},
     "output_type": "execute_result"
    }
   ],
   "source": [
    "rates_data.loc[rates_data['currency']=='USD','USD']"
   ]
  }
 ],
 "metadata": {
  "kernelspec": {
   "display_name": "Python 3.10.6 64-bit",
   "language": "python",
   "name": "python3"
  },
  "language_info": {
   "codemirror_mode": {
    "name": "ipython",
    "version": 3
   },
   "file_extension": ".py",
   "mimetype": "text/x-python",
   "name": "python",
   "nbconvert_exporter": "python",
   "pygments_lexer": "ipython3",
   "version": "3.10.6"
  },
  "orig_nbformat": 4,
  "vscode": {
   "interpreter": {
    "hash": "e7370f93d1d0cde622a1f8e1c04877d8463912d04d973331ad4851f04de6915a"
   }
  }
 },
 "nbformat": 4,
 "nbformat_minor": 2
}
