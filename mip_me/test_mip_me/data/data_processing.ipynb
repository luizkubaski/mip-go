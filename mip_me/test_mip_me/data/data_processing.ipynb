{
 "cells": [
  {
   "cell_type": "code",
   "execution_count": 1,
   "metadata": {},
   "outputs": [],
   "source": [
    "import pandas as pd\n",
    "from pathlib import Path"
   ]
  },
  {
   "cell_type": "code",
   "execution_count": 4,
   "metadata": {},
   "outputs": [],
   "source": [
    "reqs_path = Path.cwd() / 'raw_data' / 'requirements.csv'\n",
    "conv_path = Path.cwd() / 'raw_data' / 'conversion_table.csv'\n",
    "\n",
    "requirements_df = pd.read_csv(reqs_path).sort_values('symbol').rename(columns={'currency': 'Currency', 'symbol': 'Symbol', 'surplus': 'Surplus', 'requirements': 'Requirements'})\n",
    "conversion_df = pd.read_csv(conv_path, index_col=['currency']).T.reset_index(names=['symbol'])\n",
    "rate_df = pd.melt(conversion_df, id_vars=['symbol']).sort_values(['symbol', 'currency'], ignore_index=True).rename(columns={'symbol': 'From', 'currency': 'To', 'value': 'Rate'})\n",
    "rate_df.astype({'From': 'object', 'To': 'object', 'Rate': 'float'})\n",
    "requirements_df['Balance'] = requirements_df['Requirements'] - requirements_df['Surplus']\n"
   ]
  },
  {
   "cell_type": "code",
   "execution_count": 5,
   "metadata": {},
   "outputs": [],
   "source": [
    "def get_rate(rates, c_from: str, c_to: str):\n",
    "    rate = rates.loc[\n",
    "            (rates['From'] == c_from) &\n",
    "            (rates['To'] == c_to), 'Rate'].iloc[0]\n",
    "    return rate"
   ]
  },
  {
   "cell_type": "code",
   "execution_count": 17,
   "metadata": {},
   "outputs": [
    {
     "data": {
      "text/plain": [
       "1.0"
      ]
     },
     "execution_count": 17,
     "metadata": {},
     "output_type": "execute_result"
    }
   ],
   "source": [
    "rate_df[(rate_df['From']=='BRL') & (rate_df['To']=='BRL')]['Rate']"
   ]
  },
  {
   "cell_type": "code",
   "execution_count": 25,
   "metadata": {},
   "outputs": [
    {
     "data": {
      "text/plain": [
       "4   -8.5\n",
       "Name: Balance, dtype: float64"
      ]
     },
     "execution_count": 25,
     "metadata": {},
     "output_type": "execute_result"
    }
   ],
   "source": [
    "requirements_df.loc[requirements_df['Symbol']=='BRL']['Balance']"
   ]
  },
  {
   "cell_type": "code",
   "execution_count": null,
   "metadata": {},
   "outputs": [],
   "source": []
  }
 ],
 "metadata": {
  "kernelspec": {
   "display_name": ".venv",
   "language": "python",
   "name": "python3"
  },
  "language_info": {
   "codemirror_mode": {
    "name": "ipython",
    "version": 3
   },
   "file_extension": ".py",
   "mimetype": "text/x-python",
   "name": "python",
   "nbconvert_exporter": "python",
   "pygments_lexer": "ipython3",
   "version": "3.8.16"
  },
  "orig_nbformat": 4,
  "vscode": {
   "interpreter": {
    "hash": "e0a858c29d1567b97be9c3cc5d5be839b863e0df2b7e43baf06c264c6fb7f698"
   }
  }
 },
 "nbformat": 4,
 "nbformat_minor": 2
}
