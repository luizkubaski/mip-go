{
 "cells": [
  {
   "cell_type": "code",
   "execution_count": 2,
   "metadata": {},
   "outputs": [],
   "source": [
    "import pandas as pd\n",
    "from pathlib import Path\n",
    "\n",
    "\n",
    "def data_processing(path: Path):\n",
    "    temp_df = pd.read_csv(path, index_col ='currency')\n",
    "    temp_df = temp_df.T.reset_index(names=['symbol'])  # type: ignore\n",
    "    melt_df=pd.melt(temp_df, id_vars=['symbol'])\n",
    "    melt_df.columns = ['from','to','rate']  # type: ignore\n",
    "    return melt_df\n",
    "\n",
    "# if __name__=='__main__':\n",
    "\n",
    "conv_path = Path.cwd() /'raw_input'/'conversion_table.csv' \n",
    "rate_df = data_processing(conv_path)\n",
    "\n",
    "out_rate_path = Path.cwd() / 'inputs' / 'rates.csv'\n",
    "\n",
    "if Path(out_rate_path).exists():\n",
    "    Path(out_rate_path).unlink()\n",
    "rate_df.to_csv(out_rate_path)\n"
   ]
  },
  {
   "cell_type": "code",
   "execution_count": 51,
   "metadata": {},
   "outputs": [
    {
     "data": {
      "text/plain": [
       "5.29985"
      ]
     },
     "execution_count": 51,
     "metadata": {},
     "output_type": "execute_result"
    }
   ],
   "source": [
    "rate_df.loc[(rate_df['from']=='USD') & (rate_df['to']=='BRL'),'rate'].iloc[0]"
   ]
  },
  {
   "cell_type": "code",
   "execution_count": 27,
   "metadata": {},
   "outputs": [
    {
     "data": {
      "text/plain": [
       "surplus         2.4\n",
       "requirements    0.0\n",
       "Name: EUR, dtype: object"
      ]
     },
     "execution_count": 27,
     "metadata": {},
     "output_type": "execute_result"
    }
   ],
   "source": [
    "reqs_path = Path().cwd() / 'raw_input' / 'requirements.csv'\n",
    "reqs_df = pd.read_csv(reqs_path,index_col='symbol')\n",
    "# reqs_df.columns\n",
    "reqs_df.loc['EUR',['surplus','requirements']]"
   ]
  },
  {
   "cell_type": "code",
   "execution_count": 28,
   "metadata": {},
   "outputs": [],
   "source": [
    "out_reqs_path = Path.cwd() / 'inputs' / 'requirements.csv'\n",
    "\n",
    "if Path(out_reqs_path).exists():\n",
    "    Path(out_reqs_path).unlink()\n",
    "reqs_df.to_csv(out_reqs_path)\n"
   ]
  },
  {
   "cell_type": "code",
   "execution_count": 36,
   "metadata": {},
   "outputs": [],
   "source": [
    "idx_df = pd.DataFrame(set(reqs_df.index),columns=['symbol'])\n",
    "\n",
    "out_idx_path = Path.cwd() / 'inputs' / 'idxs.csv'\n",
    "\n",
    "if Path(out_idx_path).exists():\n",
    "    Path(out_idx_path).unlink()\n",
    "idx_df.to_csv(out_idx_path)"
   ]
  }
 ],
 "metadata": {
  "kernelspec": {
   "display_name": "Python 3.10.6 ('venv': venv)",
   "language": "python",
   "name": "python3"
  },
  "language_info": {
   "codemirror_mode": {
    "name": "ipython",
    "version": 3
   },
   "file_extension": ".py",
   "mimetype": "text/x-python",
   "name": "python",
   "nbconvert_exporter": "python",
   "pygments_lexer": "ipython3",
   "version": "3.10.7"
  },
  "orig_nbformat": 4,
  "vscode": {
   "interpreter": {
    "hash": "e0a398f228f4a9e21fa1c990e9657905aa8af4abfb0f4657ff81ba37d756cae8"
   }
  }
 },
 "nbformat": 4,
 "nbformat_minor": 2
}
